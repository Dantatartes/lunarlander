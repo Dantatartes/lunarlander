{
 "cells": [
  {
   "cell_type": "markdown",
   "metadata": {},
   "source": [
    "## Импортируем нужные библиотеки, вспомогательные функции"
   ]
  },
  {
   "cell_type": "code",
   "execution_count": 1,
   "metadata": {},
   "outputs": [],
   "source": [
    "import gym\n",
    "import random\n",
    "import torch\n",
    "import numpy as np\n",
    "from collections import deque\n",
    "import matplotlib.pyplot as plt\n",
    "%matplotlib inline\n",
    "\n",
    "from agent import Agent\n",
    "from misc import train_dqn, watch_agent, plot_scores"
   ]
  },
  {
   "cell_type": "markdown",
   "metadata": {},
   "source": [
    "## Окружение"
   ]
  },
  {
   "cell_type": "code",
   "execution_count": 2,
   "metadata": {},
   "outputs": [
    {
     "name": "stdout",
     "output_type": "stream",
     "text": [
      "State shape:  (8,)\n",
      "Number of actions:  4\n"
     ]
    },
    {
     "name": "stderr",
     "output_type": "stream",
     "text": [
      "/home/dantatartes/miniconda3/envs/py3/lib/python3.6/site-packages/gym/envs/registration.py:14: PkgResourcesDeprecationWarning: Parameters to load are deprecated.  Call .resolve and .require separately.\n",
      "  result = entry_point.load(False)\n"
     ]
    }
   ],
   "source": [
    "env = gym.make('LunarLander-v2')\n",
    "env.seed(0)\n",
    "state_size = env.observation_space.shape\n",
    "action_size = env.action_space.n\n",
    "print('State shape: ', state_size)\n",
    "print('Number of actions: ', action_size)\n",
    "state_size = state_size[0]"
   ]
  },
  {
   "cell_type": "markdown",
   "metadata": {},
   "source": [
    "## Агенты"
   ]
  },
  {
   "cell_type": "markdown",
   "metadata": {},
   "source": [
    "### Untrained agent"
   ]
  },
  {
   "cell_type": "code",
   "execution_count": 3,
   "metadata": {},
   "outputs": [],
   "source": [
    "untrained_agent = Agent(state_size, action_size, seed=0)\n",
    "watch_agent(untrained_agent, env)"
   ]
  },
  {
   "cell_type": "markdown",
   "metadata": {},
   "source": [
    "В качестве baseline возьмём решение [Daniel T. Plop](https://github.com/plopd/deep-reinforcement-learning/tree/master/dqn)"
   ]
  },
  {
   "cell_type": "markdown",
   "metadata": {},
   "source": [
    "### Default DQN"
   ]
  },
  {
   "cell_type": "code",
   "execution_count": 5,
   "metadata": {},
   "outputs": [
    {
     "name": "stdout",
     "output_type": "stream",
     "text": [
      "Episode 100\tAverage Score: -175.00\n",
      "Episode 200\tAverage Score: -133.94\n",
      "Episode 300\tAverage Score: -17.259\n",
      "Episode 400\tAverage Score: 52.458\n",
      "Episode 500\tAverage Score: 121.01\n",
      "Episode 600\tAverage Score: 134.96\n",
      "Episode 700\tAverage Score: 147.18\n",
      "Episode 800\tAverage Score: 149.98\n",
      "Episode 900\tAverage Score: 172.90\n",
      "Episode 978\tAverage Score: 200.21\n",
      "Environment solved in 878 episodes!\tAverage Score: 200.21\n"
     ]
    },
    {
     "data": {
      "image/png": "[encoded data removed]",
      "text/plain": [
       "<Figure size 432x288 with 1 Axes>"
      ]
     },
     "metadata": {
      "needs_background": "light"
     },
     "output_type": "display_data"
    }
   ],
   "source": [
    "scores_default = train_dqn(untrained_agent, env, save_as='checkpoint_default')\n",
    "plot_scores(scores_default)"
   ]
  },
  {
   "cell_type": "markdown",
   "metadata": {},
   "source": [
    "### [Dueling DQN](https://arxiv.org/abs/1511.06581)"
   ]
  },
  {
   "cell_type": "markdown",
   "metadata": {},
   "source": [
    "На интуитивном уровне, dueling-архитектура позволяет определять какие состояния выгодны (а какие нет), без обязанности просчитывать эффект каждого действия для каждого состояния. Это особенно полезно в состояниях где действия в нём не влияют на окружение в какой-либо мере."
   ]
  },
  {
   "cell_type": "markdown",
   "metadata": {},
   "source": [
    "![Dueling-DQN](files/img/dueling.png)"
   ]
  },
  {
   "cell_type": "markdown",
   "metadata": {},
   "source": [
    "Нужно просто создать отдельный слой для V(s) и A(s, a),\n",
    "затем сложить их в конце по формуле: Q(s,a) = V(s) + (A(s,a) - 1/|A| * sum A(s,a'))"
   ]
  },
  {
   "cell_type": "code",
   "execution_count": 4,
   "metadata": {},
   "outputs": [
    {
     "name": "stdout",
     "output_type": "stream",
     "text": [
      "Episode 100\tAverage Score: -174.46\n",
      "Episode 200\tAverage Score: -91.466\n",
      "Episode 300\tAverage Score: -21.61\n",
      "Episode 400\tAverage Score: 81.974\n",
      "Episode 500\tAverage Score: 87.057\n",
      "Episode 600\tAverage Score: 128.93\n",
      "Episode 700\tAverage Score: 152.99\n",
      "Episode 799\tAverage Score: 200.11\n",
      "Environment solved in 699 episodes!\tAverage Score: 200.11\n"
     ]
    }
   ],
   "source": [
    "agent = Agent(state_size, action_size, seed=0, dueling=True)\n",
    "scores_dueling = train_dqn(agent, env, save_as='checkpoint_dueling')"
   ]
  },
  {
   "cell_type": "code",
   "execution_count": null,
   "metadata": {},
   "outputs": [],
   "source": []
  }
 ],
 "metadata": {
  "kernelspec": {
   "display_name": "Python 3",
   "language": "python",
   "name": "python3"
  },
  "language_info": {
   "codemirror_mode": {
    "name": "ipython",
    "version": 3
   },
   "file_extension": ".py",
   "mimetype": "text/x-python",
   "name": "python",
   "nbconvert_exporter": "python",
   "pygments_lexer": "ipython3",
   "version": "3.6.8"
  }
 },
 "nbformat": 4,
 "nbformat_minor": 2
}
